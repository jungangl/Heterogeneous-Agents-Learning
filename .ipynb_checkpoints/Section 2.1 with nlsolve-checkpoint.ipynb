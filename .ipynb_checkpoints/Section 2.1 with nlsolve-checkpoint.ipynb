{
 "cells": [
  {
   "cell_type": "code",
   "execution_count": 1,
   "metadata": {},
   "outputs": [
    {
     "name": "stderr",
     "output_type": "stream",
     "text": [
      "\u001b[1m\u001b[34mINFO: Precompiling module Roots.\n",
      "\u001b[0m"
     ]
    },
    {
     "name": "stdout",
     "output_type": "stream",
     "text": [
      "The steady state:\n",
      "r=0.0204081632653062,w=0.7988789953521156,,X=4.823089669904058,k=1.087363077007046,c=0.5814063799507064\n"
     ]
    }
   ],
   "source": [
    "using Roots\n",
    "##Assume the depreciation rate is 0.5\n",
    "delta = 0.2\n",
    "\n",
    "##All the unknowns to be solved for\n",
    "## r - interest rate\n",
    "## w - wage\n",
    "## n - labor\n",
    "## k - capital\n",
    "## c - consumption\n",
    "## X - calibrated paramter, dislike for labor\n",
    "\n",
    "##Calibration\n",
    "n = 0.7\n",
    "\n",
    "##Solving for the steady state interest rate\n",
    "f1(r) = 0.98(1+r)-1\n",
    "r = newton(f1,0.2)\n",
    "\n",
    "##Solving for the steadt state capital\n",
    "f2(k) = 0.3*k^(-0.7)*n^0.7-delta-r\n",
    "k = fzero(f2,0.3)\n",
    "\n",
    "##Solving for consumption\n",
    "c = k^0.3*n^0.7-delta*k\n",
    "\n",
    "##Solving for X\n",
    "X = (c^(-2)*0.7*k^0.3*n^(-0.3))/0.49\n",
    "\n",
    "##Solving for w\n",
    "w = 0.7*k^0.3*n^(-0.3)\n",
    "\n",
    "println(\"The steady state:\")\n",
    "println(\"r=$r,w=$w,,X=$X,k=$k,c=$c\")"
   ]
  },
  {
   "cell_type": "code",
   "execution_count": 4,
   "metadata": {},
   "outputs": [
    {
     "name": "stdout",
     "output_type": "stream",
     "text": [
      "[0.0204082,0.798879,4.82309,1.08736,0.581406]\n"
     ]
    },
    {
     "name": "stderr",
     "output_type": "stream",
     "text": [
      "WARNING: Method definition (::Type{Main.Parameter})(Float64, Float64, Float64, Float64, Float64, Float64, Float64, Float64) in module Main at In[3]:6 overwritten at In[4]:6.\n",
      "WARNING: Method definition (::Type{Main.Parameter})(Any, Any, Any, Any, Any, Any, Any, Any) in module Main at In[3]:6 overwritten at In[4]:6.\n",
      "WARNING: Method definition f(Any) in module Main at In[3]:24 overwritten at In[4]:24.\n"
     ]
    },
    {
     "name": "stdout",
     "output_type": "stream",
     "text": [
      "(0.0,-1.5652501517138262e-10,-5.682809778306819e-11,8.884725247182423e-11,-5.682854187227804e-11)\n"
     ]
    }
   ],
   "source": [
    "import QuantEcon\n",
    "using NLsolve\n",
    "using Roots\n",
    "\n",
    "type Parameter\n",
    "    sigma::Float64\n",
    "    gamma::Float64\n",
    "    n::Float64\n",
    "    beta::Float64\n",
    "    rho::Float64\n",
    "    epsilon::Float64\n",
    "    alpha::Float64\n",
    "    delta::Float64\n",
    "end\n",
    "\n",
    "para = Parameter(2.0, 2.0, 0.7, 0.98, 0.85, 0.014, 0.3, 0.2)\n",
    "\n",
    "\n",
    "#x[1] as r - interest rate\n",
    "#x[2] as w - wage\n",
    "#x[3] as chi - calibrated parameter chi\n",
    "#x[4] as k - capital\n",
    "#x[5] as c - consumption\n",
    "function findsteadystate(para)\n",
    "    f(x) = (para.beta * (1 + x[1]) - 1.0,\n",
    "            x[3] * para.n^para.gamma - x[2] * x[5]^(-2),\n",
    "            (1-para.alpha) * x[4]^(para.alpha) * para.n^(-para.alpha) - x[2],\n",
    "            para.alpha * x[4]^(para.alpha - 1.0) * para.n^(1-para.alpha) - para.delta - x[1],\n",
    "            x[4]^para.alpha * para.n^(1.0-para.alpha) - para.delta*x[4] - x[5])\n",
    "\n",
    "    res = nlsolve(not_in_place(f),ones(5))\n",
    "    return res.zero\n",
    "end\n",
    "\n",
    "xbar = findsteadystate(para)\n",
    "println(x)\n",
    "println(f(x))##Somethint Wrong about the method nolsolve()???? because the second element isn't zero\n"
   ]
  },
  {
   "cell_type": "code",
   "execution_count": null,
   "metadata": {
    "collapsed": true
   },
   "outputs": [],
   "source": []
  },
  {
   "cell_type": "code",
   "execution_count": null,
   "metadata": {
    "collapsed": true
   },
   "outputs": [],
   "source": []
  },
  {
   "cell_type": "code",
   "execution_count": null,
   "metadata": {
    "collapsed": true
   },
   "outputs": [],
   "source": []
  }
 ],
 "metadata": {
  "kernelspec": {
   "display_name": "Julia 0.5.1",
   "language": "julia",
   "name": "julia-0.5"
  },
  "language_info": {
   "file_extension": ".jl",
   "mimetype": "application/julia",
   "name": "julia",
   "version": "0.5.1"
  }
 },
 "nbformat": 4,
 "nbformat_minor": 2
}
