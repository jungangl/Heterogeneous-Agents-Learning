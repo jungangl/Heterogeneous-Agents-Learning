{
 "cells": [
  {
   "cell_type": "code",
   "execution_count": 1,
   "metadata": {
    "collapsed": true
   },
   "outputs": [],
   "source": [
    "import QuantEcon\n",
    "using NLsolve\n",
    "using Roots\n",
    "\n",
    "type Parameter\n",
    "    sigma::Float64\n",
    "    gamma::Float64\n",
    "    n::Float64\n",
    "    beta::Float64\n",
    "    rho::Float64\n",
    "    epsilon::Float64\n",
    "    alpha::Float64\n",
    "    delta::Float64\n",
    "end"
   ]
  },
  {
   "cell_type": "code",
   "execution_count": 2,
   "metadata": {},
   "outputs": [
    {
     "data": {
      "text/plain": [
       "findsteadystate (generic function with 1 method)"
      ]
     },
     "execution_count": 2,
     "metadata": {},
     "output_type": "execute_result"
    }
   ],
   "source": [
    "#x[1] as r_bar - interest rate\n",
    "#x[2] as w_bar - wage\n",
    "#x[3] as chi - calibrated parameter chi\n",
    "#x[4] as k_bar - capital\n",
    "#x[5] as c_bar - consumption\n",
    "#x[6] as nu_bar - (1+r)Uc(c,n)\n",
    "\n",
    "function findsteadystate(para)\n",
    "    f(x) =  para.beta * (1 + x[1]) - 1.0,\n",
    "            x[3] * para.n^para.gamma - x[2] * x[5]^(-2),\n",
    "            (1-para.alpha) * x[4]^(para.alpha) * para.n^(-para.alpha) - x[2],\n",
    "            para.alpha * x[4]^(para.alpha - 1.0) * para.n^(1-para.alpha) - para.delta - x[1],\n",
    "            x[4]^para.alpha * para.n^(1.0-para.alpha) - para.delta*x[4] - x[5],\n",
    "            (1+x[1])*x[5]^(-para.sigma) - x[6]\n",
    "            \n",
    "    res = nlsolve(not_in_place(f),ones(6))\n",
    "    return res.zero\n",
    "end"
   ]
  },
  {
   "cell_type": "code",
   "execution_count": 3,
   "metadata": {},
   "outputs": [
    {
     "name": "stdout",
     "output_type": "stream",
     "text": [
      "r=0.020408163265306187\n",
      "w=1.0351701721582838\n",
      "X=3.496944502498685\n",
      "k=2.5791527918070543\n",
      "c=0.7772548929775783\n",
      "nu=1.689067458283648\n"
     ]
    }
   ],
   "source": [
    "para = Parameter(2.0, 2.0, 0.7, 0.98, 0.85, 0.014, 0.3, 0.1)\n",
    "xbar = findsteadystate(para)\n",
    "\n",
    "#Store the steady state as constant variables\n",
    "r_bar = xbar[1]\n",
    "w_bar = xbar[2]\n",
    "X = xbar[3]\n",
    "k_bar = xbar[4]\n",
    "c_bar = xbar[5]\n",
    "nu_bar = xbar[6]\n",
    "n_bar = para.n\n",
    "\n",
    "#print out the results\n",
    "strs = [\"r\",\"w\",\"X\",\"k\",\"c\",\"nu\"]\n",
    "for (str,x) in zip(strs,xbar)\n",
    "    println(str*\"=\"*\"$x\")\n",
    "end"
   ]
  },
  {
   "cell_type": "code",
   "execution_count": 4,
   "metadata": {},
   "outputs": [
    {
     "data": {
      "text/plain": [
       "next_theta (generic function with 1 method)"
      ]
     },
     "execution_count": 4,
     "metadata": {},
     "output_type": "execute_result"
    }
   ],
   "source": [
    "using Distributions\n",
    "function next_theta(theta)\n",
    "    dist = Normal(0,para.epsilon)\n",
    "    return exp(para.rho*log(theta)+rand(dist))\n",
    "end"
   ]
  },
  {
   "cell_type": "code",
   "execution_count": 5,
   "metadata": {},
   "outputs": [
    {
     "data": {
      "text/plain": [
       "TE (generic function with 1 method)"
      ]
     },
     "execution_count": 5,
     "metadata": {},
     "output_type": "execute_result"
    }
   ],
   "source": [
    "function TE(para,a,psi,theta)\n",
    "    #x_vec as the linear belief vector\n",
    "    k = a\n",
    "    x_vec = [1,k-k_bar,theta]\n",
    "    \n",
    "    #define function f whose x's are following\n",
    "    #x[1] as r_t\n",
    "    #x[2] as w_t\n",
    "    #x[3] as c_t\n",
    "    #x[4] as n_t\n",
    "    #x[5] as a_t+1\n",
    "    #x[6] as nu_t\n",
    "    f(x) = para.beta*(nu_bar+dot(psi,x_vec)) - x[3]^(-para.sigma),\n",
    "           X*x[4]^(para.gamma) - x[3]^(-para.sigma)*x[2],\n",
    "           (1+x[1])*a+x[2]*x[4] - x[3] - x[5],\n",
    "           x[2] - theta*((1-para.alpha)*a^para.alpha*x[4]^(-para.alpha)),\n",
    "           para.alpha*a^(para.alpha-1)*x[4]^(1-para.alpha) - para.delta - x[1],\n",
    "           (1+x[1])*x[3]^(-para.sigma) - x[6]\n",
    "    res = nlsolve(not_in_place(f),ones(6))\n",
    "    return res.zero\n",
    "end"
   ]
  },
  {
   "cell_type": "code",
   "execution_count": 6,
   "metadata": {},
   "outputs": [
    {
     "data": {
      "text/plain": [
       "next_psi (generic function with 1 method)"
      ]
     },
     "execution_count": 6,
     "metadata": {},
     "output_type": "execute_result"
    }
   ],
   "source": [
    "gamma_gain(t) = (t+1)^(-1)\n",
    "function next_psi(R,t,a,theta,nu,psi)\n",
    "    x = [1,a-k_bar,theta]\n",
    "    R_next = R-gamma_gain(t).*(x*x' - R)\n",
    "    psi_next = psi + gamma_gain(t).*inv(R_next)*x*(nu-dot(psi,x))\n",
    "    return psi_next\n",
    "end"
   ]
  },
  {
   "cell_type": "code",
   "execution_count": 7,
   "metadata": {},
   "outputs": [
    {
     "ename": "LoadError",
     "evalue": "DomainError:",
     "output_type": "error",
     "traceback": [
      "DomainError:",
      "",
      " in nan_dom_err at ./math.jl:196 [inlined]",
      " in ^(::Float64, ::Float64) at ./math.jl:355",
      " in (::#f#2{Parameter,Float64,Array{Float64,1},Float64,Array{Float64,1}})(::Array{Float64,1}) at ./In[5]:13",
      " in (::NLsolve.#f!#8{#f#2{Parameter,Float64,Array{Float64,1},Float64,Array{Float64,1}}})(::Array{Float64,1}, ::Array{Float64,1}) at /Applications/JuliaPro-0.5.1.1.app/Contents/Resources/pkgs-0.5.1.1/v0.5/NLsolve/src/differentiable_functions.jl:62",
      " in (::NLsolve.#fg!#2{NLsolve.#f!#8{#f#2{Parameter,Float64,Array{Float64,1},Float64,Array{Float64,1}}}})(::Array{Float64,1}, ::Array{Float64,1}, ::Array{Float64,2}) at /Applications/JuliaPro-0.5.1.1.app/Contents/Resources/pkgs-0.5.1.1/v0.5/NLsolve/src/differentiable_functions.jl:21",
      " in trust_region_(::NLsolve.DifferentiableMultivariateFunction, ::Array{Float64,1}, ::Float64, ::Float64, ::Int64, ::Bool, ::Bool, ::Bool, ::Float64, ::Bool) at /Applications/JuliaPro-0.5.1.1.app/Contents/Resources/pkgs-0.5.1.1/v0.5/NLsolve/src/trust_region.jl:87",
      " in #nlsolve#17(::Symbol, ::Float64, ::Float64, ::Int64, ::Bool, ::Bool, ::Bool, ::Function, ::Float64, ::Bool, ::NLsolve.#nlsolve, ::NLsolve.DifferentiableMultivariateFunction, ::Array{Float64,1}) at /Applications/JuliaPro-0.5.1.1.app/Contents/Resources/pkgs-0.5.1.1/v0.5/NLsolve/src/nlsolve_func_defs.jl:24",
      " in TE(::Parameter, ::Float64, ::Array{Float64,1}, ::Float64) at ./In[5]:19",
      " in macro expansion; at ./In[7]:16 [inlined]",
      " in anonymous at ./<missing>:?"
     ]
    }
   ],
   "source": [
    "#initiation\n",
    "#x[1] as r_t\n",
    "#x[2] as w_t\n",
    "#x[3] as c_t\n",
    "#x[4] as n_t\n",
    "#x[5] as a_t+1\n",
    "#x[6] as nu_t\n",
    "#TE : (at, ψt−1, xt)  → (rt, wt, ct, nt, at+1, νt)\n",
    "T = 100\n",
    "a_next = k_bar                 #a_0 = k_bar\n",
    "theta_next = next_theta(1.0)   #theta(-1) = 1\n",
    "psi_next = [1.0,1.0,1.0]       #psi(-1) = [1,1,1]\n",
    "R_next = eye(3)                #R(-1) = eye(1)\n",
    "nu_next = 0.0\n",
    "for t in 1:T\n",
    "    xs_next = TE(para,a_next,psi_next,theta_next)\n",
    "    theta_next = next_theta(theta_next)\n",
    "    nu_next = xs_next[6]\n",
    "    psi_next = next_psi(R_next,t-1.0,a_next,theta_next,nu_next,psi_next)\n",
    "    a_next = xs_next[5] #????if you comment this line, the code will work. What's wrong with assigning a new number to a_next????\n",
    "end\n",
    "    \n"
   ]
  },
  {
   "cell_type": "code",
   "execution_count": 9,
   "metadata": {},
   "outputs": [
    {
     "data": {
      "text/plain": [
       "3-element Array{Float64,1}:\n",
       " 1.0\n",
       " 0.0\n",
       " 1.0"
      ]
     },
     "execution_count": 9,
     "metadata": {},
     "output_type": "execute_result"
    }
   ],
   "source": [
    "a = k_bar\n",
    "psi = ones(3)\n",
    "theta = 1.\n",
    "#x_vec as the linear belief vector\n",
    "k = a\n",
    "x_vec = [1,k-k_bar,theta]\n",
    "\n",
    "#define function f whose x's are following\n",
    "#x[1] as r_t\n",
    "#x[2] as w_t\n",
    "#x[3] as c_t\n",
    "#x[4] as n_t\n",
    "#x[5] as a_t+1\n",
    "#x[6] as nu_t"
   ]
  },
  {
   "cell_type": "code",
   "execution_count": null,
   "metadata": {
    "collapsed": true
   },
   "outputs": [],
   "source": []
  }
 ],
 "metadata": {
  "kernelspec": {
   "display_name": "Julia 0.5.1",
   "language": "julia",
   "name": "julia-0.5"
  },
  "language_info": {
   "file_extension": ".jl",
   "mimetype": "application/julia",
   "name": "julia",
   "version": "0.5.1"
  }
 },
 "nbformat": 4,
 "nbformat_minor": 2
}
